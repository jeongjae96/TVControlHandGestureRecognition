{
 "cells": [
  {
   "cell_type": "code",
   "execution_count": 1,
   "metadata": {},
   "outputs": [],
   "source": [
    "import os\n",
    "import pandas as pd"
   ]
  },
  {
   "cell_type": "code",
   "execution_count": 2,
   "metadata": {},
   "outputs": [],
   "source": [
    "WORKING_DIR = '/opt/ml/TVControlHandGestureRecognition/'\n",
    "DATASET_PATH = os.path.join(WORKING_DIR, 'dataset/finger_language/')\n",
    "VIDEO_PATH = os.path.join(DATASET_PATH, 'train/')"
   ]
  },
  {
   "cell_type": "code",
   "execution_count": 3,
   "metadata": {},
   "outputs": [],
   "source": [
    "person_id_list = sorted([dir for dir in os.listdir(VIDEO_PATH) if os.path.isdir(os.path.join(VIDEO_PATH, dir))])\n",
    "\n",
    "person_id_series = []\n",
    "camera_id_series = []\n",
    "label_series = []\n",
    "path_series = []\n",
    "\n",
    "for person_id in person_id_list:\n",
    "    person_id_path = os.path.join(VIDEO_PATH, person_id)\n",
    "    camera_id_list = sorted(os.listdir(person_id_path))\n",
    "\n",
    "    for camera_id in camera_id_list:\n",
    "        camera_id_path = os.path.join(person_id_path, camera_id)\n",
    "        video_list = sorted(os.listdir(camera_id_path))\n",
    "\n",
    "        for video in video_list:\n",
    "            person_id_series.append(int(person_id))\n",
    "            camera_id_series.append(int(camera_id))\n",
    "            label_series.append(int(video.split('.')[0]))\n",
    "            path_series.append(os.path.join(camera_id_path, video))"
   ]
  },
  {
   "cell_type": "code",
   "execution_count": 4,
   "metadata": {},
   "outputs": [],
   "source": [
    "df = pd.DataFrame(\n",
    "    {\n",
    "        'person_id' : person_id_series,\n",
    "        'camera_id' : camera_id_series,\n",
    "        'label' : label_series,\n",
    "        'path' : path_series\n",
    "    },\n",
    "    columns=['person_id', 'camera_id', 'label', 'path']\n",
    ")"
   ]
  },
  {
   "cell_type": "code",
   "execution_count": 5,
   "metadata": {},
   "outputs": [],
   "source": [
    "def path_to_rel(p):\n",
    "    p = p.split('finger_language/')[-1]\n",
    "    p = os.path.join('./', p)\n",
    "\n",
    "    return p"
   ]
  },
  {
   "cell_type": "code",
   "execution_count": 6,
   "metadata": {},
   "outputs": [],
   "source": [
    "df['path'] = df['path'].apply(path_to_rel)"
   ]
  },
  {
   "cell_type": "code",
   "execution_count": 7,
   "metadata": {},
   "outputs": [],
   "source": [
    "df = df.sort_values(['person_id', 'camera_id', 'label'])"
   ]
  },
  {
   "cell_type": "code",
   "execution_count": 8,
   "metadata": {},
   "outputs": [
    {
     "data": {
      "text/html": [
       "<div>\n",
       "<style scoped>\n",
       "    .dataframe tbody tr th:only-of-type {\n",
       "        vertical-align: middle;\n",
       "    }\n",
       "\n",
       "    .dataframe tbody tr th {\n",
       "        vertical-align: top;\n",
       "    }\n",
       "\n",
       "    .dataframe thead th {\n",
       "        text-align: right;\n",
       "    }\n",
       "</style>\n",
       "<table border=\"1\" class=\"dataframe\">\n",
       "  <thead>\n",
       "    <tr style=\"text-align: right;\">\n",
       "      <th></th>\n",
       "      <th>person_id</th>\n",
       "      <th>camera_id</th>\n",
       "      <th>label</th>\n",
       "      <th>path</th>\n",
       "    </tr>\n",
       "  </thead>\n",
       "  <tbody>\n",
       "    <tr>\n",
       "      <th>0</th>\n",
       "      <td>1</td>\n",
       "      <td>1</td>\n",
       "      <td>22</td>\n",
       "      <td>./train/1/1/22.mov</td>\n",
       "    </tr>\n",
       "    <tr>\n",
       "      <th>1</th>\n",
       "      <td>1</td>\n",
       "      <td>1</td>\n",
       "      <td>24</td>\n",
       "      <td>./train/1/1/24.mov</td>\n",
       "    </tr>\n",
       "    <tr>\n",
       "      <th>2</th>\n",
       "      <td>1</td>\n",
       "      <td>1</td>\n",
       "      <td>25</td>\n",
       "      <td>./train/1/1/25.mov</td>\n",
       "    </tr>\n",
       "    <tr>\n",
       "      <th>3</th>\n",
       "      <td>1</td>\n",
       "      <td>1</td>\n",
       "      <td>27</td>\n",
       "      <td>./train/1/1/27.mov</td>\n",
       "    </tr>\n",
       "    <tr>\n",
       "      <th>4</th>\n",
       "      <td>1</td>\n",
       "      <td>1</td>\n",
       "      <td>28</td>\n",
       "      <td>./train/1/1/28.mov</td>\n",
       "    </tr>\n",
       "  </tbody>\n",
       "</table>\n",
       "</div>"
      ],
      "text/plain": [
       "   person_id  camera_id  label                path\n",
       "0          1          1     22  ./train/1/1/22.mov\n",
       "1          1          1     24  ./train/1/1/24.mov\n",
       "2          1          1     25  ./train/1/1/25.mov\n",
       "3          1          1     27  ./train/1/1/27.mov\n",
       "4          1          1     28  ./train/1/1/28.mov"
      ]
     },
     "execution_count": 8,
     "metadata": {},
     "output_type": "execute_result"
    }
   ],
   "source": [
    "df.head()"
   ]
  },
  {
   "cell_type": "code",
   "execution_count": 9,
   "metadata": {},
   "outputs": [
    {
     "data": {
      "text/html": [
       "<div>\n",
       "<style scoped>\n",
       "    .dataframe tbody tr th:only-of-type {\n",
       "        vertical-align: middle;\n",
       "    }\n",
       "\n",
       "    .dataframe tbody tr th {\n",
       "        vertical-align: top;\n",
       "    }\n",
       "\n",
       "    .dataframe thead th {\n",
       "        text-align: right;\n",
       "    }\n",
       "</style>\n",
       "<table border=\"1\" class=\"dataframe\">\n",
       "  <thead>\n",
       "    <tr style=\"text-align: right;\">\n",
       "      <th></th>\n",
       "      <th>person_id</th>\n",
       "      <th>camera_id</th>\n",
       "      <th>label</th>\n",
       "      <th>path</th>\n",
       "    </tr>\n",
       "  </thead>\n",
       "  <tbody>\n",
       "    <tr>\n",
       "      <th>3803</th>\n",
       "      <td>40</td>\n",
       "      <td>5</td>\n",
       "      <td>62</td>\n",
       "      <td>./train/40/5/62.mov</td>\n",
       "    </tr>\n",
       "    <tr>\n",
       "      <th>3804</th>\n",
       "      <td>40</td>\n",
       "      <td>8</td>\n",
       "      <td>46</td>\n",
       "      <td>./train/40/8/46.mov</td>\n",
       "    </tr>\n",
       "    <tr>\n",
       "      <th>3805</th>\n",
       "      <td>40</td>\n",
       "      <td>8</td>\n",
       "      <td>47</td>\n",
       "      <td>./train/40/8/47.mov</td>\n",
       "    </tr>\n",
       "    <tr>\n",
       "      <th>3806</th>\n",
       "      <td>40</td>\n",
       "      <td>8</td>\n",
       "      <td>48</td>\n",
       "      <td>./train/40/8/48.mov</td>\n",
       "    </tr>\n",
       "    <tr>\n",
       "      <th>3807</th>\n",
       "      <td>40</td>\n",
       "      <td>8</td>\n",
       "      <td>49</td>\n",
       "      <td>./train/40/8/49.mov</td>\n",
       "    </tr>\n",
       "  </tbody>\n",
       "</table>\n",
       "</div>"
      ],
      "text/plain": [
       "      person_id  camera_id  label                 path\n",
       "3803         40          5     62  ./train/40/5/62.mov\n",
       "3804         40          8     46  ./train/40/8/46.mov\n",
       "3805         40          8     47  ./train/40/8/47.mov\n",
       "3806         40          8     48  ./train/40/8/48.mov\n",
       "3807         40          8     49  ./train/40/8/49.mov"
      ]
     },
     "execution_count": 9,
     "metadata": {},
     "output_type": "execute_result"
    }
   ],
   "source": [
    "df.tail()"
   ]
  },
  {
   "cell_type": "code",
   "execution_count": 10,
   "metadata": {},
   "outputs": [
    {
     "name": "stdout",
     "output_type": "stream",
     "text": [
      "<class 'pandas.core.frame.DataFrame'>\n",
      "Int64Index: 4348 entries, 0 to 3807\n",
      "Data columns (total 4 columns):\n",
      " #   Column     Non-Null Count  Dtype \n",
      "---  ------     --------------  ----- \n",
      " 0   person_id  4348 non-null   int64 \n",
      " 1   camera_id  4348 non-null   int64 \n",
      " 2   label      4348 non-null   int64 \n",
      " 3   path       4348 non-null   object\n",
      "dtypes: int64(3), object(1)\n",
      "memory usage: 169.8+ KB\n"
     ]
    }
   ],
   "source": [
    "df.info()"
   ]
  },
  {
   "cell_type": "code",
   "execution_count": 11,
   "metadata": {},
   "outputs": [],
   "source": [
    "df.index.name = 'id'\n",
    "df.to_csv(os.path.join(DATASET_PATH, 'train.csv'))"
   ]
  }
 ],
 "metadata": {
  "kernelspec": {
   "display_name": "hand_gesture",
   "language": "python",
   "name": "python3"
  },
  "language_info": {
   "codemirror_mode": {
    "name": "ipython",
    "version": 3
   },
   "file_extension": ".py",
   "mimetype": "text/x-python",
   "name": "python",
   "nbconvert_exporter": "python",
   "pygments_lexer": "ipython3",
   "version": "3.8.16"
  },
  "orig_nbformat": 4,
  "vscode": {
   "interpreter": {
    "hash": "c5afcee1409d883a15570c941020cf392faa7f5bad0729db66e8281a2471720e"
   }
  }
 },
 "nbformat": 4,
 "nbformat_minor": 2
}

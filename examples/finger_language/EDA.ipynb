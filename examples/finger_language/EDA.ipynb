{
 "cells": [
  {
   "cell_type": "code",
   "execution_count": 12,
   "metadata": {},
   "outputs": [],
   "source": [
    "import os\n",
    "import pandas as pd\n",
    "import numpy as np\n",
    "from tqdm.auto import tqdm"
   ]
  },
  {
   "cell_type": "code",
   "execution_count": 8,
   "metadata": {},
   "outputs": [],
   "source": [
    "WORKING_DIR = '/opt/ml/TVControlHandGestureRecognition/'\n",
    "DATASET_PATH = os.path.join(WORKING_DIR, 'dataset/finger_language/')"
   ]
  },
  {
   "cell_type": "code",
   "execution_count": 3,
   "metadata": {},
   "outputs": [],
   "source": [
    "df = pd.read_csv(os.path.join(DATASET_PATH, 'train.csv'))"
   ]
  },
  {
   "cell_type": "code",
   "execution_count": 4,
   "metadata": {},
   "outputs": [
    {
     "data": {
      "text/html": [
       "<div>\n",
       "<style scoped>\n",
       "    .dataframe tbody tr th:only-of-type {\n",
       "        vertical-align: middle;\n",
       "    }\n",
       "\n",
       "    .dataframe tbody tr th {\n",
       "        vertical-align: top;\n",
       "    }\n",
       "\n",
       "    .dataframe thead th {\n",
       "        text-align: right;\n",
       "    }\n",
       "</style>\n",
       "<table border=\"1\" class=\"dataframe\">\n",
       "  <thead>\n",
       "    <tr style=\"text-align: right;\">\n",
       "      <th></th>\n",
       "      <th>person_id</th>\n",
       "      <th>camera_id</th>\n",
       "      <th>label</th>\n",
       "      <th>path</th>\n",
       "    </tr>\n",
       "  </thead>\n",
       "  <tbody>\n",
       "    <tr>\n",
       "      <th>0</th>\n",
       "      <td>1</td>\n",
       "      <td>1</td>\n",
       "      <td>22</td>\n",
       "      <td>./train/1/1/22.mov</td>\n",
       "    </tr>\n",
       "    <tr>\n",
       "      <th>1</th>\n",
       "      <td>1</td>\n",
       "      <td>1</td>\n",
       "      <td>24</td>\n",
       "      <td>./train/1/1/24.mov</td>\n",
       "    </tr>\n",
       "    <tr>\n",
       "      <th>2</th>\n",
       "      <td>1</td>\n",
       "      <td>1</td>\n",
       "      <td>25</td>\n",
       "      <td>./train/1/1/25.mov</td>\n",
       "    </tr>\n",
       "    <tr>\n",
       "      <th>3</th>\n",
       "      <td>1</td>\n",
       "      <td>1</td>\n",
       "      <td>27</td>\n",
       "      <td>./train/1/1/27.mov</td>\n",
       "    </tr>\n",
       "    <tr>\n",
       "      <th>4</th>\n",
       "      <td>1</td>\n",
       "      <td>1</td>\n",
       "      <td>28</td>\n",
       "      <td>./train/1/1/28.mov</td>\n",
       "    </tr>\n",
       "  </tbody>\n",
       "</table>\n",
       "</div>"
      ],
      "text/plain": [
       "   person_id  camera_id  label                path\n",
       "0          1          1     22  ./train/1/1/22.mov\n",
       "1          1          1     24  ./train/1/1/24.mov\n",
       "2          1          1     25  ./train/1/1/25.mov\n",
       "3          1          1     27  ./train/1/1/27.mov\n",
       "4          1          1     28  ./train/1/1/28.mov"
      ]
     },
     "execution_count": 4,
     "metadata": {},
     "output_type": "execute_result"
    }
   ],
   "source": [
    "df.head()"
   ]
  },
  {
   "cell_type": "code",
   "execution_count": 5,
   "metadata": {},
   "outputs": [
    {
     "data": {
      "text/plain": [
       "<AxesSubplot: >"
      ]
     },
     "execution_count": 5,
     "metadata": {},
     "output_type": "execute_result"
    },
    {
     "data": {
      "image/png": "[encoded data removed]",
      "text/plain": [
       "<Figure size 640x480 with 1 Axes>"
      ]
     },
     "metadata": {},
     "output_type": "display_data"
    }
   ],
   "source": [
    "df.label.value_counts().plot(kind='bar')"
   ]
  },
  {
   "cell_type": "code",
   "execution_count": 6,
   "metadata": {},
   "outputs": [],
   "source": [
    "import cv2"
   ]
  },
  {
   "cell_type": "code",
   "execution_count": 13,
   "metadata": {},
   "outputs": [
    {
     "name": "stderr",
     "output_type": "stream",
     "text": [
      "4348it [01:08, 63.14it/s]\n"
     ]
    }
   ],
   "source": [
    "video_df = df.copy()\n",
    "\n",
    "width = []\n",
    "height = []\n",
    "fps = []\n",
    "frame_count = []\n",
    "\n",
    "for _, row in tqdm(video_df.iterrows()):\n",
    "    video_path = os.path.join(WORKING_DIR, DATASET_PATH, row['path'])\n",
    "    video = cv2.VideoCapture(video_path)\n",
    "\n",
    "    width.append(video.get(cv2.CAP_PROP_FRAME_WIDTH))\n",
    "    height.append(video.get(cv2.CAP_PROP_FRAME_HEIGHT))\n",
    "    fps.append(video.get(cv2.CAP_PROP_FPS))\n",
    "    frame_count.append(video.get(cv2.CAP_PROP_FRAME_COUNT))"
   ]
  },
  {
   "cell_type": "code",
   "execution_count": 15,
   "metadata": {},
   "outputs": [],
   "source": [
    "video_df['width'] = width\n",
    "video_df['height'] = height\n",
    "video_df['width_height'] = video_df[['width', 'height']].apply(tuple, axis=1)\n",
    "video_df['fps'] = fps\n",
    "video_df['frame_count'] = frame_count"
   ]
  },
  {
   "cell_type": "code",
   "execution_count": 16,
   "metadata": {},
   "outputs": [
    {
     "data": {
      "text/html": [
       "<div>\n",
       "<style scoped>\n",
       "    .dataframe tbody tr th:only-of-type {\n",
       "        vertical-align: middle;\n",
       "    }\n",
       "\n",
       "    .dataframe tbody tr th {\n",
       "        vertical-align: top;\n",
       "    }\n",
       "\n",
       "    .dataframe thead th {\n",
       "        text-align: right;\n",
       "    }\n",
       "</style>\n",
       "<table border=\"1\" class=\"dataframe\">\n",
       "  <thead>\n",
       "    <tr style=\"text-align: right;\">\n",
       "      <th></th>\n",
       "      <th>person_id</th>\n",
       "      <th>camera_id</th>\n",
       "      <th>label</th>\n",
       "      <th>path</th>\n",
       "      <th>width</th>\n",
       "      <th>height</th>\n",
       "      <th>width_height</th>\n",
       "      <th>fps</th>\n",
       "      <th>frame_count</th>\n",
       "    </tr>\n",
       "  </thead>\n",
       "  <tbody>\n",
       "    <tr>\n",
       "      <th>0</th>\n",
       "      <td>1</td>\n",
       "      <td>1</td>\n",
       "      <td>22</td>\n",
       "      <td>./train/1/1/22.mov</td>\n",
       "      <td>1920.0</td>\n",
       "      <td>1080.0</td>\n",
       "      <td>(1920.0, 1080.0)</td>\n",
       "      <td>30.0</td>\n",
       "      <td>31.0</td>\n",
       "    </tr>\n",
       "    <tr>\n",
       "      <th>1</th>\n",
       "      <td>1</td>\n",
       "      <td>1</td>\n",
       "      <td>24</td>\n",
       "      <td>./train/1/1/24.mov</td>\n",
       "      <td>1920.0</td>\n",
       "      <td>1080.0</td>\n",
       "      <td>(1920.0, 1080.0)</td>\n",
       "      <td>30.0</td>\n",
       "      <td>34.0</td>\n",
       "    </tr>\n",
       "    <tr>\n",
       "      <th>2</th>\n",
       "      <td>1</td>\n",
       "      <td>1</td>\n",
       "      <td>25</td>\n",
       "      <td>./train/1/1/25.mov</td>\n",
       "      <td>1920.0</td>\n",
       "      <td>1080.0</td>\n",
       "      <td>(1920.0, 1080.0)</td>\n",
       "      <td>30.0</td>\n",
       "      <td>35.0</td>\n",
       "    </tr>\n",
       "    <tr>\n",
       "      <th>3</th>\n",
       "      <td>1</td>\n",
       "      <td>1</td>\n",
       "      <td>27</td>\n",
       "      <td>./train/1/1/27.mov</td>\n",
       "      <td>1920.0</td>\n",
       "      <td>1080.0</td>\n",
       "      <td>(1920.0, 1080.0)</td>\n",
       "      <td>30.0</td>\n",
       "      <td>36.0</td>\n",
       "    </tr>\n",
       "    <tr>\n",
       "      <th>4</th>\n",
       "      <td>1</td>\n",
       "      <td>1</td>\n",
       "      <td>28</td>\n",
       "      <td>./train/1/1/28.mov</td>\n",
       "      <td>1920.0</td>\n",
       "      <td>1080.0</td>\n",
       "      <td>(1920.0, 1080.0)</td>\n",
       "      <td>30.0</td>\n",
       "      <td>31.0</td>\n",
       "    </tr>\n",
       "  </tbody>\n",
       "</table>\n",
       "</div>"
      ],
      "text/plain": [
       "   person_id  camera_id  label                path   width  height  \\\n",
       "0          1          1     22  ./train/1/1/22.mov  1920.0  1080.0   \n",
       "1          1          1     24  ./train/1/1/24.mov  1920.0  1080.0   \n",
       "2          1          1     25  ./train/1/1/25.mov  1920.0  1080.0   \n",
       "3          1          1     27  ./train/1/1/27.mov  1920.0  1080.0   \n",
       "4          1          1     28  ./train/1/1/28.mov  1920.0  1080.0   \n",
       "\n",
       "       width_height   fps  frame_count  \n",
       "0  (1920.0, 1080.0)  30.0         31.0  \n",
       "1  (1920.0, 1080.0)  30.0         34.0  \n",
       "2  (1920.0, 1080.0)  30.0         35.0  \n",
       "3  (1920.0, 1080.0)  30.0         36.0  \n",
       "4  (1920.0, 1080.0)  30.0         31.0  "
      ]
     },
     "execution_count": 16,
     "metadata": {},
     "output_type": "execute_result"
    }
   ],
   "source": [
    "video_df.head()"
   ]
  },
  {
   "cell_type": "code",
   "execution_count": 17,
   "metadata": {},
   "outputs": [
    {
     "data": {
      "text/plain": [
       "30.0    4348\n",
       "Name: fps, dtype: int64"
      ]
     },
     "execution_count": 17,
     "metadata": {},
     "output_type": "execute_result"
    }
   ],
   "source": [
    "video_df.fps.value_counts()"
   ]
  },
  {
   "cell_type": "code",
   "execution_count": 18,
   "metadata": {},
   "outputs": [
    {
     "data": {
      "text/plain": [
       "18.0    304\n",
       "19.0    263\n",
       "14.0    261\n",
       "16.0    256\n",
       "13.0    253\n",
       "20.0    251\n",
       "17.0    249\n",
       "15.0    244\n",
       "21.0    206\n",
       "12.0    189\n",
       "22.0    188\n",
       "24.0    177\n",
       "11.0    174\n",
       "23.0    165\n",
       "25.0    155\n",
       "10.0    128\n",
       "9.0     128\n",
       "26.0    119\n",
       "27.0    110\n",
       "28.0     76\n",
       "8.0      74\n",
       "29.0     60\n",
       "31.0     47\n",
       "30.0     47\n",
       "7.0      42\n",
       "6.0      34\n",
       "34.0     28\n",
       "32.0     24\n",
       "33.0     19\n",
       "4.0      12\n",
       "35.0     11\n",
       "36.0     10\n",
       "5.0      10\n",
       "37.0      6\n",
       "41.0      5\n",
       "38.0      5\n",
       "40.0      3\n",
       "42.0      3\n",
       "39.0      3\n",
       "43.0      2\n",
       "48.0      1\n",
       "47.0      1\n",
       "44.0      1\n",
       "70.0      1\n",
       "71.0      1\n",
       "74.0      1\n",
       "62.0      1\n",
       "Name: frame_count, dtype: int64"
      ]
     },
     "execution_count": 18,
     "metadata": {},
     "output_type": "execute_result"
    }
   ],
   "source": [
    "video_df.frame_count.value_counts()"
   ]
  },
  {
   "cell_type": "code",
   "execution_count": 19,
   "metadata": {},
   "outputs": [
    {
     "data": {
      "text/plain": [
       "(1920.0, 1080.0)    4348\n",
       "Name: width_height, dtype: int64"
      ]
     },
     "execution_count": 19,
     "metadata": {},
     "output_type": "execute_result"
    }
   ],
   "source": [
    "video_df.width_height.value_counts()"
   ]
  },
  {
   "cell_type": "code",
   "execution_count": null,
   "metadata": {},
   "outputs": [],
   "source": []
  }
 ],
 "metadata": {
  "kernelspec": {
   "display_name": "hand_gesture",
   "language": "python",
   "name": "python3"
  },
  "language_info": {
   "codemirror_mode": {
    "name": "ipython",
    "version": 3
   },
   "file_extension": ".py",
   "mimetype": "text/x-python",
   "name": "python",
   "nbconvert_exporter": "python",
   "pygments_lexer": "ipython3",
   "version": "3.8.16"
  },
  "orig_nbformat": 4,
  "vscode": {
   "interpreter": {
    "hash": "c5afcee1409d883a15570c941020cf392faa7f5bad0729db66e8281a2471720e"
   }
  }
 },
 "nbformat": 4,
 "nbformat_minor": 2
}
